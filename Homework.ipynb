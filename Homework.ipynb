{
 "cells": [
  {
   "cell_type": "code",
   "execution_count": 1,
   "metadata": {},
   "outputs": [
    {
     "name": "stdout",
     "output_type": "stream",
     "text": [
      "cake\n"
     ]
    }
   ],
   "source": [
    "project=\"cake\"\n",
    "print(project)"
   ]
  },
  {
   "cell_type": "code",
   "execution_count": 2,
   "metadata": {},
   "outputs": [
    {
     "name": "stdout",
     "output_type": "stream",
     "text": [
      "5\n"
     ]
    }
   ],
   "source": [
    "difficulty=\"5\"\n",
    "print(difficulty)"
   ]
  },
  {
   "cell_type": "code",
   "execution_count": 33,
   "metadata": {},
   "outputs": [
    {
     "name": "stdout",
     "output_type": "stream",
     "text": [
      "175\n",
      "175\n",
      "100\n",
      "2\n",
      "1\n",
      "0.5\n"
     ]
    }
   ],
   "source": [
    "ingrediends_flour=175 \n",
    "print(ingrediends_flour)\n",
    "ingrediends_buffer=175\n",
    "print(ingrediends_buffer)\n",
    "ingrediends_sugar=100\n",
    "print(ingrediends_sugar)\n",
    "ingrediends_eggs=2\n",
    "print(ingrediends_eggs)\n",
    "ingrediends_cocoapowder=1\n",
    "print(ingrediends_cocoapowder)\n",
    "ingrediends_bukingpowder=0.5\n",
    "print(ingrediends_bukingpowder)\n",
    "\n",
    "\n",
    "\n"
   ]
  },
  {
   "cell_type": "code",
   "execution_count": 68,
   "metadata": {},
   "outputs": [
    {
     "name": "stdout",
     "output_type": "stream",
     "text": [
      "1003.0\n"
     ]
    }
   ],
   "source": [
    "#Exponenta\n",
    "a = 15\n",
    "b = 8\n",
    "c=2\n",
    "#Taking whole part\n",
    "#Modulus\n",
    "#Addition\n",
    "#Subtraction\n",
    "print(5*a**2-a*b+(a%2)-a/5)\n",
    "\n"
   ]
  },
  {
   "cell_type": "code",
   "execution_count": 74,
   "metadata": {},
   "outputs": [
    {
     "name": "stdout",
     "output_type": "stream",
     "text": [
      "852\n"
     ]
    }
   ],
   "source": [
    "#Exponenta\n",
    "a = 15\n",
    "b = 8\n",
    "c=2\n",
    "#Taking whole part\n",
    "#Modulus\n",
    "#Addition\n",
    "#Subtraction\n",
    "print(b**3+3*a*b-10*c)\n"
   ]
  },
  {
   "cell_type": "code",
   "execution_count": 17,
   "metadata": {},
   "outputs": [
    {
     "name": "stdout",
     "output_type": "stream",
     "text": [
      "Here is the calendar:\n",
      "      May 2018\n",
      "Mo Tu We Th Fr Sa Su\n",
      "    1  2  3  4  5  6\n",
      " 7  8  9 10 11 12 13\n",
      "14 15 16 17 18 19 20\n",
      "21 22 23 24 25 26 27\n",
      "28 29 30 31\n",
      "\n",
      "\n",
      "Date:  1984-09-07\n",
      "Year:  1984\n",
      "Month:  9\n",
      "Day:  7\n",
      "Day of the week (version 0):  5\n",
      "Days until my next birthday:  12783 days, 0:00:00\n",
      "Seconds until my next birthday:  1104451200.0\n"
     ]
    }
   ],
   "source": [
    "import datetime, time, calendar\n",
    "import calendar\n",
    "\n",
    "cal = calendar.month(2018, 5)\n",
    "print (\"Here is the calendar:\")\n",
    "print (cal)\n",
    "print()\n",
    "tday = datetime.date(1984,9,7)\n",
    "print('Date: ', tday)\n",
    "print('Year: ', tday.year)\n",
    "print('Month: ', tday.month)\n",
    "print('Day: ', tday.day)\n",
    "print('Day of the week (version 0): ', tday.isoweekday())\n",
    "bday = datetime.date(2019, 9, 7)\n",
    "till_bday = bday - tday\n",
    "print(\"Days until my next birthday: \", till_bday)\n",
    "print(\"Seconds until my next birthday: \", till_bday.total_seconds())\n",
    "import datetime\n",
    "\n",
    "d = datetime.date(2018, 11,17)\n"
   ]
  },
  {
   "cell_type": "code",
   "execution_count": 25,
   "metadata": {},
   "outputs": [
    {
     "name": "stdout",
     "output_type": "stream",
     "text": [
      "2018-11-17\n",
      "Time:  13:07:45\n",
      "Date d:  1984-09-07\n",
      "2 days, 0:00:00\n",
      "Date d + 2 days:  2018-11-19\n",
      "Date d - 3 days:  2018-11-15\n"
     ]
    }
   ],
   "source": [
    "import datetime\n",
    "\n",
    "d = datetime.date(2018, 11, 17)\n",
    "print(d)\n",
    "# datetime.time(hour, minutes, seconds)\n",
    "t = datetime.time(13, 7, 45)\n",
    "print('Time: ', t)\n",
    "print('Date d: ', tday)\n",
    "tdelta = datetime.timedelta(days = 2)\n",
    "print(tdelta)\n",
    "print('Date d + 2 days: ', d + tdelta)\n",
    "print('Date d - 3 days: ', d - tdelta)\n"
   ]
  }
 ],
 "metadata": {
  "kernelspec": {
   "display_name": "Python 3",
   "language": "python",
   "name": "python3"
  },
  "language_info": {
   "codemirror_mode": {
    "name": "ipython",
    "version": 3
   },
   "file_extension": ".py",
   "mimetype": "text/x-python",
   "name": "python",
   "nbconvert_exporter": "python",
   "pygments_lexer": "ipython3",
   "version": "3.7.0"
  }
 },
 "nbformat": 4,
 "nbformat_minor": 2
}
